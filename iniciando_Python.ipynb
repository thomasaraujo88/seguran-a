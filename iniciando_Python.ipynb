{
  "nbformat": 4,
  "nbformat_minor": 0,
  "metadata": {
    "colab": {
      "provenance": [],
      "toc_visible": true,
      "authorship_tag": "ABX9TyP99vj/M9Azs3wJXwQRAH2E",
      "include_colab_link": true
    },
    "kernelspec": {
      "name": "python3",
      "display_name": "Python 3"
    },
    "language_info": {
      "name": "python"
    }
  },
  "cells": [
    {
      "cell_type": "markdown",
      "metadata": {
        "id": "view-in-github",
        "colab_type": "text"
      },
      "source": [
        "<a href=\"https://colab.research.google.com/github/thomasaraujo88/seguran-a/blob/main/iniciando_Python.ipynb\" target=\"_parent\"><img src=\"https://colab.research.google.com/assets/colab-badge.svg\" alt=\"Open In Colab\"/></a>"
      ]
    },
    {
      "cell_type": "code",
      "source": [
        "# @title Olá, mundo!\n",
        "\n",
        "print (\"ola, mundo!\");\n"
      ],
      "metadata": {
        "colab": {
          "base_uri": "https://localhost:8080/"
        },
        "id": "XTVcRM-iVdL6",
        "outputId": "0d719ea2-a2c0-4782-dd8a-bdaebad05d17",
        "cellView": "form",
        "collapsed": true
      },
      "execution_count": null,
      "outputs": [
        {
          "output_type": "stream",
          "name": "stdout",
          "text": [
            "ola, mundo!\n"
          ]
        }
      ]
    },
    {
      "cell_type": "code",
      "source": [
        "# @title Operações matemáticas\n",
        "\n",
        "numero1 = int(input(\"Digite o primeiro número: \"))\n",
        "numero2 =int(input(\"Digite o segundo número: \"))\n",
        "numero3 = int(input(\"Digite o terceiro número: \"))\n",
        "soma = numero1 + numero2 + numero3\n",
        "subtracao = numero1 - numero2 - numero3\n",
        "multiplicacao = numero1 * numero2 * numero3\n",
        "divisao = numero1 / numero2 / numero3\n",
        "print(\"Soma:\", soma)\n",
        "print(\"Subtração:\", subtracao)\n",
        "print(\"Multiplicação:\", multiplicacao)\n",
        "print(\"Divisão:\", divisao)\n"
      ],
      "metadata": {
        "colab": {
          "base_uri": "https://localhost:8080/"
        },
        "id": "dIQ0hEovWPy8",
        "outputId": "d1583b47-a16a-44a3-a0bb-517fcece87f9",
        "cellView": "form",
        "collapsed": true
      },
      "execution_count": null,
      "outputs": [
        {
          "output_type": "stream",
          "name": "stdout",
          "text": [
            "Digite o primeiro número: 5\n",
            "Digite o segundo número: 5\n",
            "Digite o terceiro número: 36\n",
            "Soma: 46\n",
            "Subtração: -36\n",
            "Multiplicação: 900\n",
            "Divisão: 0.027777777777777776\n"
          ]
        }
      ]
    },
    {
      "cell_type": "code",
      "source": [
        "# @title Entrada de dados (input)\n",
        "\n",
        "nome = input(\"Digite seu nome: \")\n",
        "data = input(\"digite sua data de nacimento:\")\n",
        "curso = input(\"digite seu curso: \")\n",
        "print(\"Olá,\", nome + \"!\")\n",
        "print(\"nascido,\", data + \"!\")\n",
        "print(\"curso,\", curso + \"!\")"
      ],
      "metadata": {
        "colab": {
          "base_uri": "https://localhost:8080/"
        },
        "id": "50hmyrn1ZYPV",
        "outputId": "3d917ce4-ad2e-4574-9d22-53064bcb1356",
        "collapsed": true,
        "cellView": "form"
      },
      "execution_count": null,
      "outputs": [
        {
          "output_type": "stream",
          "name": "stdout",
          "text": [
            "Digite seu nome: 10\n",
            "digite sua data de nacimento:10\n",
            "digite seu curso: 103\n",
            "Olá, 10!\n",
            "nascido, 10!\n",
            "curso, 103!\n"
          ]
        }
      ]
    },
    {
      "cell_type": "code",
      "source": [
        "# @title PAR OU IMPAR?\n",
        "\n",
        "numero = int(input(\"Digite um número: \"))\n",
        "if numero % 2 == 0:\n",
        " print(\"O número é par.\")\n",
        "else:\n",
        " print(\"O número é ímpar.\")"
      ],
      "metadata": {
        "colab": {
          "base_uri": "https://localhost:8080/"
        },
        "id": "H0bkd-x2bSSI",
        "outputId": "96c95ad6-039d-40f6-d56c-9638775eee77",
        "collapsed": true
      },
      "execution_count": null,
      "outputs": [
        {
          "output_type": "stream",
          "name": "stdout",
          "text": [
            "Digite um número: 4\n",
            "O número é par.\n"
          ]
        }
      ]
    },
    {
      "cell_type": "code",
      "source": [
        "# @title Laços de repetiçao (1 ao 10)\n",
        "\n",
        "for i in range(1, 11):\n",
        " print (i)\n"
      ],
      "metadata": {
        "colab": {
          "base_uri": "https://localhost:8080/"
        },
        "id": "GzPlt5S5crXo",
        "outputId": "6181f97b-9c5e-4f8d-d419-d52204733d91",
        "collapsed": true,
        "cellView": "form"
      },
      "execution_count": null,
      "outputs": [
        {
          "output_type": "stream",
          "name": "stdout",
          "text": [
            "1\n",
            "2\n",
            "3\n",
            "4\n",
            "5\n",
            "6\n",
            "7\n",
            "8\n",
            "9\n",
            "10\n"
          ]
        }
      ]
    },
    {
      "cell_type": "markdown",
      "source": [],
      "metadata": {
        "id": "HIGz2O1KG5mC"
      }
    },
    {
      "cell_type": "code",
      "source": [
        "# @title 6 calculadora simples\n",
        "num1 = float(input(\"Digite o primeiro número: \"))\n",
        "num2 = float(input(\"Digite o segundo número: \"))\n",
        "operacao = input(\"Digite a operação (+, -, *, /, % ,==, <, >, **): \")\n",
        "if operacao == \"+\":\n",
        " resultado = num1 + num2\n",
        "elif operacao == \"-\":\n",
        " resultado = num1 - num2\n",
        "elif operacao == \"*\":\n",
        " resultado = num1 * num2\n",
        "elif operacao == \"/\":\n",
        " resultado = num1 / num2\n",
        "elif operacao == \"%\":\n",
        "  resultado = num1 % num2\n",
        "elif operacao == \"==\":\n",
        "  resultado = num1 == num2\n",
        "elif operacao == \"<\":\n",
        "  resultado = num1 < num2\n",
        "elif operacao == \">\":\n",
        " resultado = num1 > num2\n",
        "elif operacao == \"**\":\n",
        "  resultado = num1 ** num2\n",
        "else:\n",
        "  print(\"Operação inválida.\")\n",
        "print(\"Resultado:\", resultado)\n"
      ],
      "metadata": {
        "colab": {
          "base_uri": "https://localhost:8080/"
        },
        "id": "I3w_NLb2G7TJ",
        "outputId": "ba1b1fc8-1823-456a-b7fa-207a3916c4ab"
      },
      "execution_count": null,
      "outputs": [
        {
          "output_type": "stream",
          "name": "stdout",
          "text": [
            "Digite o primeiro número: 2\n",
            "Digite o segundo número: 2\n",
            "Digite a operação (+, -, *, /, % ,==, <, >, **): **\n",
            "Resultado: 4.0\n"
          ]
        }
      ]
    },
    {
      "cell_type": "code",
      "source": [
        "# @title 7.Criar uma lista de nomes e imprimir cada nome.\n",
        "nomes = [\"Alice\", \"Bob\", \"Charlie\", \"thomas\" , \"flavio\", \"hercules\", \"ana\", \"duda\"]\n",
        "for nome in nomes:\n",
        " print(nome)"
      ],
      "metadata": {
        "colab": {
          "base_uri": "https://localhost:8080/"
        },
        "id": "rpIhXl_-NWZJ",
        "outputId": "66b8cefe-4f65-449c-bdf9-4660547ce2ee"
      },
      "execution_count": null,
      "outputs": [
        {
          "output_type": "stream",
          "name": "stdout",
          "text": [
            "Alice\n",
            "Bob\n",
            "Charlie\n",
            "thomas\n",
            "flavio\n",
            "hercules\n",
            "ana\n",
            "duda\n"
          ]
        }
      ]
    },
    {
      "cell_type": "code",
      "source": [
        "# @title 8.Criar uma função para calcular a área de um círculo.\n",
        "import math\n",
        "def calcular_area_circulo(raio):\n",
        " area = math.pi * raio**2\n",
        " return area\n",
        "raio = float(input(\"Digite o raio do círculo: \"))\n",
        "area = calcular_area_circulo(raio)\n",
        "print(\"A área do círculo é:\", area)"
      ],
      "metadata": {
        "colab": {
          "base_uri": "https://localhost:8080/"
        },
        "id": "BWNLNGocOfcD",
        "outputId": "af52dfa8-edd6-4fb0-c957-7900d318b7a2"
      },
      "execution_count": null,
      "outputs": [
        {
          "output_type": "stream",
          "name": "stdout",
          "text": [
            "Digite o raio do círculo: 5\n",
            "A área do círculo é: 78.53981633974483\n"
          ]
        }
      ]
    }
  ]
}