{
  "nbformat": 4,
  "nbformat_minor": 0,
  "metadata": {
    "colab": {
      "provenance": [],
      "authorship_tag": "ABX9TyO3GF19A/O+NNt0ZXgxUWVZ",
      "include_colab_link": true
    },
    "kernelspec": {
      "name": "python3",
      "display_name": "Python 3"
    },
    "language_info": {
      "name": "python"
    }
  },
  "cells": [
    {
      "cell_type": "markdown",
      "metadata": {
        "id": "view-in-github",
        "colab_type": "text"
      },
      "source": [
        "<a href=\"https://colab.research.google.com/github/thomasaraujo88/seguran-a/blob/main/Cifra_cesar.ipynb\" target=\"_parent\"><img src=\"https://colab.research.google.com/assets/colab-badge.svg\" alt=\"Open In Colab\"/></a>"
      ]
    },
    {
      "cell_type": "code",
      "execution_count": null,
      "metadata": {
        "colab": {
          "base_uri": "https://localhost:8080/"
        },
        "id": "6sV6GOkdcZha",
        "outputId": "a81e2b30-d6de-43d5-caa8-5c305a576b67"
      },
      "outputs": [
        {
          "output_type": "stream",
          "name": "stdout",
          "text": [
            "Digite a mensagem: thomas\n",
            "Digite a rotação (número inteiro): 10\n",
            "Digite o modo (encriptar/decriptar): decritar\n",
            "Modo inválido. Digite 'encriptar' ou 'decriptar'.\n",
            "Digite o modo (encriptar/decriptar): decriptar\n",
            "Mensagem original: thomas\n",
            "Mensagem decriptara: jxecqi\n",
            "\n",
            "Explicação do código:\n",
            "A função `cifra_cesar` implementa a cifra de César.\n",
            "1. **Parâmetros:** `texto` (mensagem), `rotacao` (deslocamento) e `modo` (encriptar/decriptar).\n",
            "2. **Iteração:** Percorre cada caractere da mensagem.\n",
            "3. **Verificação:** Verifica se o caractere é uma letra.\n",
            "4. **Cálculo do índice:** Calcula a nova posição da letra no alfabeto.\n",
            "5. **Conversão:** Converte o índice para um novo caractere.\n",
            "6. **Concatenação:** Adiciona o novo caractere à mensagem resultante.\n",
            "7. **Retorno:** Retorna a mensagem cifrada ou decifrada.\n",
            "8. **Modo:** A variável `modo` determina se a operação é de encriptação ou descriptografia.\n",
            "9. **Rotação:** A rotação determina quantas posições cada letra é deslocada.\n",
            "10. **Módulo:** O operador `%` garante que o índice permaneça dentro do alfabeto.\n"
          ]
        }
      ],
      "source": [
        "def cifra_cesar(texto, rotacao, modo='encriptar'):\n",
        "  \"\"\"\n",
        "  Criptografa ou descriptografa uma mensagem usando a cifra de César.\n",
        "\n",
        "  Args:\n",
        "    texto: A mensagem a ser cifrada ou decifrada.\n",
        "    rotacao: O número de posições para deslocar as letras.\n",
        "    modo: 'encriptar' para cifrar ou 'decriptar' para decifrar.\n",
        "\n",
        "  Returns:\n",
        "    A mensagem cifrada ou decifrada.\n",
        "  \"\"\"\n",
        "\n",
        "  resultado = \"\"\n",
        "  for char in texto:\n",
        "    if char.isalpha():\n",
        "      if char.isupper():\n",
        "        novo_indice = (ord(char) - ord('A') + rotacao) % 26\n",
        "        novo_char = chr(novo_indice + ord('A'))\n",
        "      else:\n",
        "        novo_indice = (ord(char) - ord('a') + rotacao) % 26\n",
        "        novo_char = chr(novo_indice + ord('a'))\n",
        "      resultado += novo_char\n",
        "    else:\n",
        "      resultado += char\n",
        "  return resultado\n",
        "\n",
        "# Obtendo os dados do usuário\n",
        "mensagem = input(\"Digite a mensagem: \")\n",
        "rotacao = int(input(\"Digite a rotação (número inteiro): \"))\n",
        "modo = input(\"Digite o modo (encriptar/decriptar): \")\n",
        "\n",
        "# Validando o modo\n",
        "while modo not in ['encriptar', 'decriptar']:\n",
        "  print(\"Modo inválido. Digite 'encriptar' ou 'decriptar'.\")\n",
        "  modo = input(\"Digite o modo (encriptar/decriptar): \")\n",
        "\n",
        "# Cifrando ou decifrando a mensagem\n",
        "if modo == 'encriptar':\n",
        "  mensagem_final = cifra_cesar(mensagem, rotacao)\n",
        "else:\n",
        "  mensagem_final = cifra_cesar(mensagem, -rotacao)\n",
        "\n",
        "# Imprimindo os resultados\n",
        "print(\"Mensagem original:\", mensagem)\n",
        "print(\"Mensagem\", modo + \"a:\", mensagem_final)\n",
        "\n",
        "# Explicação do código:\n",
        "print(\"\\nExplicação do código:\")\n",
        "print(\"A função `cifra_cesar` implementa a cifra de César.\")\n",
        "print(\"1. **Parâmetros:** `texto` (mensagem), `rotacao` (deslocamento) e `modo` (encriptar/decriptar).\")\n",
        "print(\"2. **Iteração:** Percorre cada caractere da mensagem.\")\n",
        "print(\"3. **Verificação:** Verifica se o caractere é uma letra.\")\n",
        "print(\"4. **Cálculo do índice:** Calcula a nova posição da letra no alfabeto.\")\n",
        "print(\"5. **Conversão:** Converte o índice para um novo caractere.\")\n",
        "print(\"6. **Concatenação:** Adiciona o novo caractere à mensagem resultante.\")\n",
        "print(\"7. **Retorno:** Retorna a mensagem cifrada ou decifrada.\")\n",
        "print(\"8. **Modo:** A variável `modo` determina se a operação é de encriptação ou descriptografia.\")\n",
        "print(\"9. **Rotação:** A rotação determina quantas posições cada letra é deslocada.\")\n",
        "print(\"10. **Módulo:** O operador `%` garante que o índice permaneça dentro do alfabeto.\")"
      ]
    },
    {
      "cell_type": "markdown",
      "source": [],
      "metadata": {
        "id": "YSpH7NoTfN9S"
      }
    }
  ]
}